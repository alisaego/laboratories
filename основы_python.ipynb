{
 "cells": [
  {
   "cell_type": "markdown",
   "metadata": {
    "id": "M-DGa20PaHnu"
   },
   "source": [
    "#Задача 1\n",
    "Написать функцию на вход которой подается строка, состоящая из латинских букв.\n",
    "Функция должна вернуть количество гласных букв (a, e, i, o, u) в этой строке. Написать тесты для кода"
   ]
  },
  {
   "cell_type": "code",
   "execution_count": null,
   "metadata": {
    "id": "XvX8X_JJ6PCb"
   },
   "outputs": [],
   "source": [
    "def count_vowels(text):\n",
    "  \"\"\"\n",
    "  Подсчитывает количество гласных букв (a, e, i, o, u) в строке.\n",
    "\n",
    "  Аргумент:\n",
    "    text: Строка\n",
    "\n",
    "  Возвращает:\n",
    "    Количество гласных букв.\n",
    "  \"\"\"\n",
    "\n",
    "  vowels = \"aeiouAEIOU\"\n",
    "  count = 0\n",
    "  for char in text:\n",
    "    if char in vowels:\n",
    "      count += 1\n",
    "  return count\n",
    "\n",
    "# пример\n",
    "text = \"Hello, world!\"\n",
    "result = count_vowels(text)\n",
    "print(result)  # выводит 3"
   ]
  },
  {
   "cell_type": "markdown",
   "metadata": {
    "id": "t2ClV_Y0bbr6"
   },
   "source": [
    "# Задача 2\n",
    "Написать функцию на вход, которой подается строка. Функция должна вернуть true, если\n",
    "каждый символ в строке встречается только 1 раз, иначе должна вернуть false. Написать тесты для кода"
   ]
  },
  {
   "cell_type": "code",
   "execution_count": null,
   "metadata": {
    "id": "FppbECao6VIz"
   },
   "outputs": [],
   "source": [
    "def has_unique_chars(string):\n",
    "  \"\"\"\n",
    "  Проверяет, встречается ли каждый символ в строке только один раз.\n",
    "\n",
    "  Аргументы:\n",
    "    string: Исходная строка.\n",
    "\n",
    "  Возвращает:\n",
    "    True, если все символы уникальны, иначе False.\n",
    "  \"\"\"\n",
    "\n",
    "  unique_chars = set()\n",
    "\n",
    "  for char in string:\n",
    "    if char in unique_chars:\n",
    "      return False\n",
    "    unique_chars.add(char)\n",
    "\n",
    "  return True"
   ]
  },
  {
   "cell_type": "markdown",
   "metadata": {
    "id": "udRiIK1cdt6E"
   },
   "source": [
    "# Задача 3\n",
    "Написать функцию, которая принимает положительное число и возвращает количество\n",
    "бит равных 1 в этом числе. Написать тесты для кода"
   ]
  },
  {
   "cell_type": "code",
   "execution_count": null,
   "metadata": {
    "id": "6tkfDJRz6dp_"
   },
   "outputs": [],
   "source": [
    "def count_bits(n):\n",
    "  \"\"\"\n",
    "  Подсчитывает количество единичных битов в двоичном представлении числа.\n",
    "\n",
    "  Аргумент:\n",
    "    n: Положительное целое число.\n",
    "\n",
    "  Возвращает:\n",
    "    Количество единичных битов.\n",
    "  \"\"\"\n",
    "\n",
    "  count = 0\n",
    "  while n:\n",
    "    count += n & 1\n",
    "    n >>= 1\n",
    "  return count\n",
    "\n",
    "# пример\n",
    "num = 13\n",
    "result = count_bits(num)\n",
    "print(result)  # выводит 3"
   ]
  },
  {
   "cell_type": "markdown",
   "metadata": {
    "id": "26dDUz-Ae17N"
   },
   "source": [
    "# Задача 4\n",
    "Написать функцию, которая принимает положительное число. Функция должна вернуть то,\n",
    "сколько раз необходимо перемножать цифры числа или результат перемножения, чтобы\n",
    "получилось число состоящее из одной цифры.\n",
    "Например, для входного числа:\n",
    "· 39 функция должна вернуть 3, так как 3*9=27 => 2*7=14 => 1*4=4\n",
    "· 4 функция должна вернуть 0, так как число уже состоит из одной цифры\n",
    "· 999 функция должна вернуть 4, так как 9*9*9=729 => 7*2*9=126 => 1*2*6=12 =>\n",
    "1*2=2. Написать тесты для кода"
   ]
  },
  {
   "cell_type": "code",
   "execution_count": null,
   "metadata": {
    "id": "BH1A_Mgi6i4G"
   },
   "outputs": [],
   "source": [
    "def magic(n):\n",
    "    \"\"\"\n",
    "    Подсчитывает количество шагов, необходимых для преобразования числа в однозначное число\n",
    "    путем последовательного перемножения цифр.\n",
    "\n",
    "    Аргумент:\n",
    "        n: Положительное целое число.\n",
    "\n",
    "    Возвращает:\n",
    "        Количество шагов.\n",
    "    \"\"\"\n",
    "\n",
    "    count = 0\n",
    "    while n > 9:\n",
    "        product = 1\n",
    "        while n > 0:\n",
    "            product *= n % 10\n",
    "            n //= 10\n",
    "        n = product\n",
    "        count += 1\n",
    "    return count\n",
    "\n",
    "# примеры\n",
    "print(magic(39))  # выводит 3\n",
    "print(magic(4))   # выводит 0\n"
   ]
  },
  {
   "cell_type": "markdown",
   "metadata": {
    "id": "0nS-kIa8g8vd"
   },
   "source": [
    "# Задача 5\n",
    "Написать функцию, которая принимает два целочисленных вектора одинаковой длины и\n",
    "возвращает среднеквадратическое отклонение двух векторов. Написать тесты для кода"
   ]
  },
  {
   "cell_type": "code",
   "execution_count": null,
   "metadata": {
    "id": "8iphx4LM6xbx"
   },
   "outputs": [],
   "source": [
    "import numpy as np\n",
    "\n",
    "def mse(pred, true):\n",
    "  \"\"\"\n",
    "  Вычисляет среднеквадратическую ошибку (MSE) между двумя векторами.\n",
    "\n",
    "  Аргументы:\n",
    "    pred: Предсказанные значения (numpy.ndarray).\n",
    "    true: Истинные значения (numpy.ndarray).\n",
    "\n",
    "  Возвращает:\n",
    "    Среднеквадратическую ошибку (float).\n",
    "  \"\"\"\n",
    "\n",
    "  if len(pred) != len(true):\n",
    "    raise ValueError(\"Векторы должны быть одинаковой длины\")\n",
    "\n",
    "  return np.mean((pred - true) ** 2)\n",
    "\n",
    "import unittest\n",
    "\n",
    "class TestMSE(unittest.TestCase):\n",
    "  def test_equal_vectors(self):\n",
    "    pred = np.array([1, 2, 3])\n",
    "    true = np.array([1, 2, 3])\n",
    "    self.assertEqual(mse(pred, true), 0)\n",
    "\n",
    "  def test_different_vectors(self):\n",
    "    pred = np.array([1, 2, 3])\n",
    "    true = np.array([4, 5, 6])\n",
    "    self.assertEqual(mse(pred, true), 9)\n",
    "\n",
    "  def test_unequal_lengths(self):\n",
    "    pred = np.array([1, 2])\n",
    "    true = np.array([1, 2, 3])\n",
    "    with self.assertRaises(ValueError):\n",
    "      mse(pred, true)\n",
    "\n",
    "if __name__ == '__main__':\n",
    "  unittest.main()"
   ]
  },
  {
   "cell_type": "markdown",
   "metadata": {
    "id": "vpIPKL439zkw"
   },
   "source": [
    "# Задача 6\n",
    "Написать функцию, принимающая целое положительное число. Функция должна вернуть\n",
    "строку вида “(n1**p1)(n2**p2)…(nk**pk)” представляющая разложение числа на простые\n",
    "множители (если pi == 1, то выводить только ni).\n",
    "Например, для числа 86240 функция должна вернуть “(2**5)(5)(7**2)(11)”. Написать тесты для кода"
   ]
  },
  {
   "cell_type": "code",
   "execution_count": null,
   "metadata": {
    "id": "pFebmcZk94Jw"
   },
   "outputs": [],
   "source": [
    "def factorize(n):\n",
    "    \"\"\"\n",
    "    Разлагает число на простые множители и возвращает строковое представление.\n",
    "\n",
    "    Аргумент:\n",
    "        n: Целое положительное число.\n",
    "\n",
    "    Возвращает:\n",
    "        Строка, представляющая разложение на простые множители.\n",
    "    \"\"\"\n",
    "\n",
    "    result = []\n",
    "    divisor = 2\n",
    "\n",
    "    while n > 1:\n",
    "        exponent = 0\n",
    "        while n % divisor == 0:\n",
    "            exponent += 1\n",
    "            n //= divisor\n",
    "        if exponent > 0:\n",
    "            result.append(f\"({divisor}\" + (\"\" if exponent == 1 else f\"**{exponent}\")) + \")\")\n",
    "        divisor += 1\n",
    "        if divisor * divisor > n:\n",
    "            if n > 1:\n",
    "                result.append(f\"({n})\")\n",
    "            break\n",
    "\n",
    "    return \"\".join(result)\n",
    "\n",
    "import unittest\n",
    "\n",
    "class TestFactorization(unittest.TestCase):\n",
    "    def test_small_number(self):\n",
    "        self.assertEqual(factorize(12), \"(2**2)(3)\")\n",
    "\n",
    "    def test_prime_number(self):\n",
    "        self.assertEqual(factorize(17), \"(17)\")\n",
    "\n",
    "    def test_large_number(self):\n",
    "        self.assertEqual(factorize(86240), \"(2**5)(5)(7**2)(11)\")\n",
    "\n",
    "if __name__ == '__main__':\n",
    "    unittest.main()"
   ]
  },
  {
   "cell_type": "markdown",
   "metadata": {
    "id": "ps2s0BudX7A2"
   },
   "source": [
    "# Задача 7\n",
    "Написать функцию, принимающая целое число n, задающее количество кубиков. Функция\n",
    "должна определить, можно ли из данного кол-ва кубиков построить пирамиду, то есть\n",
    "можно ли представить число n как 1^2+2^2+3^2+…+k^2. Если можно, то функция должна\n",
    "вернуть k, иначе строку “It is impossible”. Написать тесты для кода"
   ]
  },
  {
   "cell_type": "code",
   "execution_count": null,
   "metadata": {
    "id": "3YPjEXxhX_YT"
   },
   "outputs": [],
   "source": [
    "def pyramid(n):\n",
    "    \"\"\"\n",
    "    Определяет, можно ли построить пирамиду из заданного количества кубиков.\n",
    "\n",
    "    Аргументы:\n",
    "        n: Количество кубиков.\n",
    "\n",
    "    Возвращает:\n",
    "        Число слоев пирамиды, если возможно построить, иначе строку \"It is impossible\".\n",
    "    \"\"\"\n",
    "\n",
    "    k = 0\n",
    "    sum_squares = 0\n",
    "    while sum_squares < n:\n",
    "        k += 1\n",
    "        sum_squares += k * k\n",
    "        if sum_squares == n:\n",
    "            return k\n",
    "    return \"It is impossible\"\n",
    "\n",
    "import unittest\n",
    "\n",
    "class TestPyramid(unittest.TestCase):\n",
    "    def test_possible_pyramid(self):\n",
    "        self.assertEqual(pyramid(14), 3)\n",
    "\n",
    "    def test_impossible_pyramid(self):\n",
    "        self.assertEqual(pyramid(15), \"It is impossible\")\n",
    "\n",
    "    def test_single_layer(self):\n",
    "        self.assertEqual(pyramid(1), 1)\n",
    "\n",
    "if __name__ == '__main__':\n",
    "    unittest.main()"
   ]
  },
  {
   "cell_type": "markdown",
   "metadata": {
    "id": "KeKgmIdAQMEJ"
   },
   "source": [
    "# Задача 8\n",
    "Функция принимает на вход положительное число и определяет является ли оно сбалансированным, т.е. сумма цифр до средних равна сумме цифр после. Средними в случае нечетного числа цифр считать одну цифру, в случае четного - две средних. Написать тесты для кода"
   ]
  },
  {
   "cell_type": "code",
   "execution_count": null,
   "metadata": {
    "id": "gMAAqtqlQrZt"
   },
   "outputs": [],
   "source": [
    "def is_balanced(num):\n",
    "  \"\"\"\n",
    "  Проверяет, является ли число сбалансированным.\n",
    "\n",
    "  Аргументы:\n",
    "      num: Положительное целое число.\n",
    "\n",
    "  Возвращает:\n",
    "      True, если число сбалансировано, иначе False.\n",
    "  \"\"\"\n",
    "\n",
    "  num_str = str(num)\n",
    "  mid = len(num_str) // 2\n",
    "  \n",
    "  left_sum = sum(int(digit) for digit in num_str[:mid])\n",
    "  right_sum = sum(int(digit) for digit in num_str[mid + (len(num_str) % 2):])\n",
    "\n",
    "  return left_sum == right_sum\n",
    "\n",
    "import unittest\n",
    "\n",
    "class TestBalancedNumber(unittest.TestCase):\n",
    "    def test_balanced(self):\n",
    "        self.assertTrue(is_balanced(12345))\n",
    "        self.assertTrue(is_balanced(123456))\n",
    "        self.assertTrue(is_balanced(2222))\n",
    "\n",
    "    def test_unbalanced(self):\n",
    "        self.assertFalse(is_balanced(1234567))\n",
    "        self.assertFalse(is_balanced(1122334))\n",
    "\n",
    "if __name__ == '__main__':\n",
    "    unittest.main()"
   ]
  }
 ],
 "metadata": {
  "colab": {
   "provenance": []
  },
  "kernelspec": {
   "display_name": "Python 3 (ipykernel)",
   "language": "python",
   "name": "python3"
  },
  "language_info": {
   "codemirror_mode": {
    "name": "ipython",
    "version": 3
   },
   "file_extension": ".py",
   "mimetype": "text/x-python",
   "name": "python",
   "nbconvert_exporter": "python",
   "pygments_lexer": "ipython3",
   "version": "3.12.4"
  }
 },
 "nbformat": 4,
 "nbformat_minor": 4
}
