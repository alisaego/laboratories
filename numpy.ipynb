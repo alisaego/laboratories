{
 "cells": [
  {
   "cell_type": "markdown",
   "metadata": {
    "id": "vC84e9kzyxPy"
   },
   "source": [
    "<h1>Импорт библиотек"
   ]
  },
  {
   "cell_type": "code",
   "execution_count": 3,
   "metadata": {
    "id": "cgKeNegmQG5S"
   },
   "outputs": [],
   "source": [
    "import numpy as np\n",
    "import matplotlib.pyplot as plt"
   ]
  },
  {
   "cell_type": "markdown",
   "metadata": {
    "id": "qFM9uVU2x4Ls"
   },
   "source": [
    "<h1>Задача 1. Дан набор из $p$ матриц размерностью $(n, n)$ и $p$ векторов размерностью $(n, 1)$, найти сумму произведений матриц на векторы. Написать тесты для кода"
   ]
  },
  {
   "cell_type": "code",
   "execution_count": null,
   "metadata": {
    "id": "IAbUvEiYyWFF"
   },
   "outputs": [],
   "source": [
    "def sum_prod(X, V):\n",
    "  \"\"\"\n",
    "  Вычисляет сумму произведений матриц на векторы.\n",
    "\n",
    "  Args:\n",
    "    X: Список матриц размера (n, n).\n",
    "    V: Список векторов размера (n, 1).\n",
    "\n",
    "  Returns:\n",
    "    Вектор, являющийся суммой произведений.\n",
    "  \"\"\"\n",
    "\n",
    "  if len(X) != len(V):\n",
    "    raise ValueError(\"Количество матриц и векторов должно совпадать\")\n",
    "\n",
    "  result = np.zeros_like(V[0])\n",
    "  for matrix, vector in zip(X, V):\n",
    "    result += np.dot(matrix, vector)\n",
    "  return result\n",
    "\n",
    "import unittest\n",
    "\n",
    "class TestSumProd(unittest.TestCase):\n",
    "    def test_simple_case(self):\n",
    "        X = [np.array([[1, 2], [3, 4]]), np.array([[5, 6], [7, 8]])]\n",
    "        V = [np.array([[1], [2]]), np.array([[3], [4]])]\n",
    "        result = sum_prod(X, V)\n",
    "        self.assertTrue(np.allclose(result, np.array([[28], [38]])))\n",
    "\n",
    "    def test_different_sizes(self):\n",
    "        X = [np.array([[1, 2], [3, 4]])]\n",
    "        V = [np.array([[1], [2]]), np.array([[3], [4]])]\n",
    "        with self.assertRaises(ValueError):\n",
    "            sum_prod(X, V)\n",
    "\n",
    "if __name__ == '__main__':\n",
    "    unittest.main()"
   ]
  },
  {
   "cell_type": "markdown",
   "metadata": {
    "id": "TKwPG4fIy2w4"
   },
   "source": [
    "<h1>Задача 2. Дана матрица M, напишите функцию, которая бинаризует матрицу по некоторому threshold (то есть, все значения большие threshold становятся равными 1, иначе 0). Напишите тесты для кода"
   ]
  },
  {
   "cell_type": "code",
   "execution_count": null,
   "metadata": {
    "id": "KQDNMgsjRNH7"
   },
   "outputs": [],
   "source": [
    "def binarize(M, threshold=0.5):\n",
    "\n",
    "    \"\"\"\n",
    "    Бинаризует матрицу по заданному порогу.\n",
    "\n",
    "    Аргументы:\n",
    "        M: Входная матрица.\n",
    "        threshold: Порог для бинаризации.\n",
    "\n",
    "    Возвращает:\n",
    "        Бинаризованная матрица.\n",
    "    \"\"\"\n",
    "\n",
    "    return (M >= threshold).astype(int)\n",
    "\n",
    "# пример\n",
    "M = np.array([[0.2, 0.8, 0.3],\n",
    "              [0.6, 0.4, 0.9],\n",
    "              [0.1, 0.5, 0.7]])\n",
    "\n",
    "binary_M = binarize(M, threshold=0.5)\n",
    "print(binary_M)\n",
    "    pass\n",
    "\n",
    "import unittest\n",
    "\n",
    "class TestBinarization(unittest.TestCase):\n",
    "    def test_simple_case(self):\n",
    "        M = np.array([[0.2, 0.8, 0.3],\n",
    "                      [0.6, 0.4, 0.9],\n",
    "                      [0.1, 0.5, 0.7]])\n",
    "        expected = np.array([[0, 1, 0],\n",
    "                            [1, 0, 1],\n",
    "                            [0, 1, 1]])\n",
    "        result = binarize(M, 0.5)\n",
    "        np.testing.assert_array_equal(result, expected)\n",
    "\n",
    "    def test_all_below_threshold(self):\n",
    "        M = np.array([[0.2, 0.3, 0.1]])\n",
    "        expected = np.zeros((1, 3))\n",
    "        result = binarize(M, 0.5)\n",
    "        np.testing.assert_array_equal(result, expected)\n",
    "\n",
    "    def test_all_above_threshold(self):\n",
    "        M = np.array([[0.8, 0.9, 1.0]])\n",
    "        expected = np.ones((1, 3))\n",
    "        result = binarize(M, 0.5)\n",
    "        np.testing.assert_array_equal(result, expected)\n",
    "\n",
    "if __name__ == '__main__':\n",
    "    unittest.main()"
   ]
  },
  {
   "cell_type": "markdown",
   "metadata": {
    "id": "IY5L-h-7zWhN"
   },
   "source": [
    "<h1>Задача 3. Напишите функцию, которая возвращает уникальные элементы из каждой строки матрицы. Напишите такую же функцию, но для столбцов. Напишите тесты для кода"
   ]
  },
  {
   "cell_type": "code",
   "execution_count": null,
   "metadata": {
    "id": "-8dEZhR0SBC-"
   },
   "outputs": [],
   "source": [
    "\n",
    "def unique_rows(mat):\n",
    "    \"\"\"\n",
    "    Возвращает уникальные строки матрицы.\n",
    "\n",
    "    Аргумент:\n",
    "        mat: Входная матрица.\n",
    "\n",
    "    Возвращает:\n",
    "        Массив, содержащий уникальные строки.\n",
    "    \"\"\"\n",
    "    unique_rows = np.unique(mat, axis=0)\n",
    "    return unique_rows\n",
    "\n",
    "def unique_columns(mat):\n",
    "    \"\"\"\n",
    "    Возвращает уникальные столбцы матрицы.\n",
    "\n",
    "    Аргумент:\n",
    "        mat: Входная матрица.\n",
    "\n",
    "    Возвращает:\n",
    "        Массив, содержащий уникальные столбцы.\n",
    "    \"\"\"\n",
    "    unique_cols = np.unique(mat, axis=1)\n",
    "    return unique_cols\n",
    "\n",
    "import unittest\n",
    "\n",
    "class TestUniqueRowsColumns(unittest.TestCase):\n",
    "    def test_unique_rows(self):\n",
    "        mat = np.array([[1, 2, 3],\n",
    "                       [4, 5, 6],\n",
    "                       [1, 2, 3]])\n",
    "        unique_rows_expected = np.array([[1, 2, 3],\n",
    "                                        [4, 5, 6]])\n",
    "        unique_rows_actual = unique_rows(mat)\n",
    "        np.testing.assert_array_equal(unique_rows_actual, unique_rows_expected)\n",
    "\n",
    "    def test_unique_columns(self):\n",
    "        mat = np.array([[1, 2, 3],\n",
    "                       [1, 4, 5],\n",
    "                       [1, 2, 6]])\n",
    "        unique_cols_expected = np.array([[1, 2, 3],\n",
    "                                        [1, 4, 5],\n",
    "                                        [1, 2, 6]])\n",
    "        unique_cols_actual = unique_columns(mat)\n",
    "        np.testing.assert_array_equal(unique_cols_actual, unique_cols_expected)\n",
    "\n",
    "if __name__ == '__main__':\n",
    "    unittest.main()"
   ]
  },
  {
   "cell_type": "markdown",
   "metadata": {
    "id": "roYAlo4Jz-lH"
   },
   "source": [
    "<h1>Задача 4. Напишите функцию, которая заполняет матрицу с размерами $(m, n)$ случайными числами, распределенными по нормальному закону. Затем считает мат. ожидание и дисперсию для каждого из столбцов и строк, а также строит для каждой строки и столбца гистограмму значений (использовать функцию hist из модуля matplotlib.plot)"
   ]
  },
  {
   "cell_type": "code",
   "execution_count": null,
   "metadata": {
    "id": "nZK_71hMSQzv"
   },
   "outputs": [],
   "source": [
    "def generate_and_analyze_matrix(m, n, mean=0, std=1):\n",
    "    \"\"\"\n",
    "    Генерирует матрицу случайных чисел с нормальным распределением,\n",
    "    вычисляет статистические характеристики и строит гистограммы.\n",
    "\n",
    "    Args:\n",
    "        m: Количество строк.\n",
    "        n: Количество столбцов.\n",
    "        mean: Математическое ожидание для генерации случайных чисел.\n",
    "        std: Стандартное отклонение для генерации случайных чисел.\n",
    "    \"\"\"\n",
    "\n",
    "    # генерируется матрица\n",
    "    matrix = np.random.normal(loc=mean, scale=std, size=(m, n))\n",
    "\n",
    "    # вычисление среднего и дисперсии для каждой строки\n",
    "    row_means = np.mean(matrix, axis=1)\n",
    "    row_vars = np.var(matrix, axis=1)\n",
    "\n",
    "    # вычисление среднего и дисперсии для каждого столбца\n",
    "    col_means = np.mean(matrix, axis=0)\n",
    "    col_vars = np.var(matrix, axis=0)\n",
    "\n",
    "    # строится гистограмма\n",
    "    for i in range(m):\n",
    "        plt.figure()\n",
    "        plt.hist(matrix[i, :], bins=20)\n",
    "        plt.title(f\"Гистограмма строки {i+1}\")\n",
    "        plt.xlabel(\"Значение\")\n",
    "        plt.ylabel(\"Частота\")\n",
    "        plt.show()\n",
    "\n",
    "    for i in range(n):\n",
    "        plt.figure()\n",
    "        plt.hist(matrix[:, i], bins=20)\n",
    "        plt.title(f\"Гистограмма столбца {i+1}\")\n",
    "        plt.xlabel(\"Значение\")\n",
    "        plt.ylabel(\"Частота\")\n",
    "        plt.show()\n",
    "\n",
    "    return matrix, row_means, row_vars, col_means, col_vars\n",
    "\n",
    "# пример\n",
    "matrix, row_means, row_vars, col_means, col_vars = generate_and_analyze_matrix(5, 10, mean=2, std=1.5)\n",
    "print(\"Средние значения по строкам:\", row_means)\n",
    "print(\"Дисперсии по строкам:\", row_vars)\n",
    "print(\"Средние значения по столбцам:\", col_means)\n",
    "print(\"Дисперсии по столбцам:\", col_vars)"
   ]
  },
  {
   "cell_type": "markdown",
   "metadata": {
    "id": "BDyATNdM0dJ2"
   },
   "source": [
    "<h1>Задача 5. Напишите функцию, которая заполняет матрицу $(m, n)$ в шахматном порядке заданными числами $a$ и $b$. Напишите тесты для кода"
   ]
  },
  {
   "cell_type": "code",
   "execution_count": null,
   "metadata": {
    "id": "RWNJYWQGecS6"
   },
   "outputs": [],
   "source": [
    "def chess(m, n, a, b):\n",
    "\n",
    "  \"\"\"\n",
    "  Создает матрицу, заполненную числами a и b в шахматном порядке.\n",
    "\n",
    "  Аргументы:\n",
    "    m: Количество строк.\n",
    "    n: Количество столбцов.\n",
    "    a: Первое число для заполнения.\n",
    "    b: Второе число для заполнения.\n",
    "\n",
    "  Возвращает:\n",
    "    Матрица, заполненная в шахматном порядке.\n",
    "  \"\"\"\n",
    "\n",
    "  matrix = np.zeros((m, n))\n",
    "  matrix[::2, ::2] = a\n",
    "  matrix[1::2, 1::2] = a\n",
    "  matrix[::2, 1::2] = b\n",
    "  matrix[1::2, ::2] = b\n",
    "  return matrix\n",
    "\n",
    "# пример\n",
    "chessboard = chess(5, 5, 1, 0)\n",
    "print(chessboard)\n",
    "    pass\n",
    "\n",
    "import unittest\n",
    "\n",
    "class TestChessboardMatrix(unittest.TestCase):\n",
    "  def test_even_by_even(self):\n",
    "    result = chessboard_matrix(4, 4, 1, 0)\n",
    "    expected = np.array([[1, 0, 1, 0],\n",
    "                         [0, 1, 0, 1],\n",
    "                         [1, 0, 1, 0],\n",
    "                         [0, 1, 0, 1]])\n",
    "    np.testing.assert_array_equal(result, expected)\n",
    "\n",
    "  def test_odd_by_odd(self):\n",
    "    result = chessboard_matrix(3, 3, 1, 0)\n",
    "    expected = np.array([[1, 0, 1],\n",
    "                         [0, 1, 0],\n",
    "                         [1, 0, 1]])\n",
    "    np.testing.assert_array_equal(result, expected)\n",
    "\n",
    "  def test_different_values(self):\n",
    "    result = chessboard_matrix(2, 3, 5, -2)\n",
    "    expected = np.array([[5, -2, 5],\n",
    "                         [-2, 5, -2]])\n",
    "    np.testing.assert_array_equal(result, expected)\n",
    "\n",
    "if __name__ == '__main__':\n",
    "  unittest.main()"
   ]
  },
  {
   "cell_type": "markdown",
   "metadata": {
    "id": "-ymXLtTN0vB6"
   },
   "source": [
    "<h1>Задача 6. Напишите функцию, которая отрисовывает прямоугольник с заданными размерами (a, b) на изображении размера (m, n), цвет фона задайте в схеме RGB, как и цвет прямоугольника. Цвета также должны быть параметрами функции. Напишите аналогичную функцию но для овала с полуосями a и b. Напишите тесты для кода.\n",
    "Примечание: уравнение эллипса (границы овала) можно записать как:\n",
    "<h1>$\\frac{(x-x_0)^2}{a^2}+\\frac{(y-y_0)^2}{b^2}=1$"
   ]
  },
  {
   "cell_type": "code",
   "execution_count": 1,
   "metadata": {
    "id": "sNfl1t_kfOF4"
   },
   "outputs": [],
   "source": [
    "from PIL import Image, ImageDraw\n",
    "\n",
    "def draw_rectangle(a, b, m, n, rectangle_color, background_color):\n",
    "    img = Image.new(\"RGB\", (m, n), background_color)\n",
    "    draw = ImageDraw.Draw(img)\n",
    "    \n",
    "    x0 = (m - a) // 2\n",
    "    y0 = (n - b) // 2\n",
    "    x1 = x0 + a\n",
    "    y1 = y0 + b\n",
    "    \n",
    "    draw.rectangle([x0, y0, x1, y1], fill=rectangle_color)\n",
    "    \n",
    "    return img\n",
    "\n",
    "def draw_ellipse(a, b, m, n, ellipse_color, background_color):\n",
    "    img = Image.new(\"RGB\", (m, n), background_color)\n",
    "    draw = ImageDraw.Draw(img)\n",
    "    \n",
    "    x0 = (m - a) // 2\n",
    "    y0 = (n - b) // 2\n",
    "    x1 = x0 + a\n",
    "    y1 = y0 + b\n",
    "    \n",
    "    draw.ellipse([x0, y0, x1, y1], fill=ellipse_color)\n",
    "    \n",
    "    return img\n",
    "rectangle_img = draw_rectangle(200, 100, 400, 400, (255, 0, 0), (0, 255, 0))\n",
    "rectangle_img.show() \n",
    "\n",
    "ellipse_img = draw_ellipse(200, 100, 400, 400, (0, 0, 255), (255, 255, 0))\n",
    "ellipse_img.show()"
   ]
  },
  {
   "cell_type": "markdown",
   "metadata": {
    "id": "S82c38oz244H"
   },
   "source": [
    "<h1>Задача 7. Дан некий временной ряд. Для данного ряда нужно найти его: математическое ожидание, дисперсию, СКО, найти все локальные максимумы и минимумы (локальный максимум - это точка, которая больше своих соседних точек, а локальный минимум - это точка, которая меньше своих соседей), а также вычислить для данного ряда другой ряд, получаемый методом скользящего среднего с размером окна $p$.\n",
    "<h1>Примечание: метод скользящего среднего подразумевает нахождение среднего из подмножетсва ряда размером $p$"
   ]
  },
  {
   "cell_type": "code",
   "execution_count": null,
   "metadata": {
    "id": "Zb9mIVge5MMt"
   },
   "outputs": [],
   "source": [
    "def statistics(time_ser):\n",
    "    mean = np.mean(time_ser) \n",
    "    variance = np.var(time_ser) \n",
    "    std_dev = np.std(time_ser)  \n",
    "    \n",
    "    return mean, variance, std_dev\n",
    "\n",
    "def local_extrema(time_ser):\n",
    "    local_max = []  \n",
    "    local_min = []  \n",
    "    for i in range(1, len(time_ser) - 1):\n",
    "        if time_ser[i] > time_ser[i - 1] and time_ser[i] > time_ser[i + 1]:\n",
    "            local_max.append((i, time_series[i]))\n",
    "        elif time_ser[i] < time_ser[i - 1] and time_ser[i] < time_ser[i + 1]:\n",
    "            local_min.append((i, time_ser[i])) \n",
    "    \n",
    "    return local_max, local_min\n",
    "\n",
    "def moving_average(time_ser, p):\n",
    "    return np.convolve(time_ser, np.ones(p) / p, mode='valid')\n",
    "time_ser = np.array([1, 3, 7, 1, 2, 6, 0, 1, 4, 5, 7, 8, 3, 2])\n",
    "    \n",
    "mean, variance, std_dev = statistics(time_ser)\n",
    "print(f\"Математическое ожидание: {mean:.2f}\")\n",
    "print(f\"Дисперсия: {variance:.2f}\")\n",
    "print(f\"Среднеквадратическое отклонение: {std_dev:.2f}\")\n",
    "local_max, local_min = local_extrema(time_ser)\n",
    "print(f\"Локальные максимумы: {local_max}\")\n",
    "print(f\"Локальные минимумы: {local_min}\")  \n",
    "p = 3\n",
    "smoothed_series = moving_average(time_ser, p)\n",
    "print(f\"Скользящее среднее (размер окна {p}): {smoothed_series}\")"
   ]
  },
  {
   "cell_type": "markdown",
   "metadata": {
    "id": "jPkylmOX5O9n"
   },
   "source": [
    "<h1> Задача 8. Дан некоторый вектор с целочисленными метками классов, напишите функцию, которая выполняет one-hot-encoding для данного вектора\n",
    "<h1> One-hot-encoding - представление, в котором на месте метки некоторого класса стоит 1, в остальных позициях стоит 0. Например для вектора [0, 2, 3, 0] one-hot-encoding выглядит как: [[1, 0, 0, 0], [0, 0, 1, 0], [0, 0, 0, 1], [1, 0, 0, 0]]"
   ]
  },
  {
   "cell_type": "code",
   "execution_count": null,
   "metadata": {
    "id": "Y-jlnZvw56lD"
   },
   "outputs": [],
   "source": [
    "def one_hot_encoding(class_vector):\n",
    "    num_class = np.max(class_vector) + 1\n",
    "    \n",
    "    one_hot_matrix = np.zeros((len(class_vector), num_class), dtype=int)\n",
    "    \n",
    "    one_hot_matrix[np.arange(len(class_vector)), class_vector] = 1\n",
    "    \n",
    "    return one_hot_matrix\n",
    "class_vector = np.array([0, 2, 3, 0])\n",
    "print(f\"Входной вектор: {class_vector}\")\n",
    "encoded_matrix = one_hot_encoding(class_vector)\n",
    "print(f\"One-hot-encoding:\\n{encoded_matrix}\""
   ]
  }
 ],
 "metadata": {
  "colab": {
   "provenance": []
  },
  "kernelspec": {
   "display_name": "Python 3 (ipykernel)",
   "language": "python",
   "name": "python3"
  },
  "language_info": {
   "codemirror_mode": {
    "name": "ipython",
    "version": 3
   },
   "file_extension": ".py",
   "mimetype": "text/x-python",
   "name": "python",
   "nbconvert_exporter": "python",
   "pygments_lexer": "ipython3",
   "version": "3.12.4"
  }
 },
 "nbformat": 4,
 "nbformat_minor": 4
}
